{
 "cells": [
  {
   "cell_type": "markdown",
   "metadata": {},
   "source": [
    "# Dynamics of an End-mirror QOM System using Functional Programming\n",
    "\n",
    "In this notebook, the following topics are covered:\n",
    "\n",
    "* The Heisenberg-Langevin Equations (HLEs)\n",
    "* The Quantum Optomechanics (QOM) Toolbox\n",
    "* Interfacing the System Class with the QOM Toolbox\n",
    "* Simulating the Classical Equations of Motion (CEMs)\n",
    "* Simulting the Correlations between the Quantum Fluctuations"
   ]
  },
  {
   "cell_type": "markdown",
   "metadata": {},
   "source": [
    "## The Heisenberg-Langevin Equations (HLEs)\n",
    "\n",
    "The Hamiltonian of a simple optomechanical system can be written as (refer to [our tutorial](https://arxiv.org/abs/2211.02596) for its derivation):\n",
    "$$\n",
    "H = - \\hbar \\Delta_{0} a^{\\dagger} a + \\hbar \\omega_{m} b^{\\dagger} b - \\hbar g_{0} a^{\\dagger} a \\left( b^{\\dagger} + b \\right) + i \\hbar A_{l} \\left( a^{\\dagger} - a \\right),\n",
    "$$\n",
    "where $a$ ($b$) is the annihilation operator of the optical (mechanical) mode, $\\Delta_{0}$ is the laser detuning, $\\omega_{m}$ the mechanical resonance frequency, $g_{0}$ the optomechanical interaction strength and $A_{l}$ the laser amplitude.\n",
    "\n",
    "In the linearized limit, this Hamiltonian can be represented by:\n",
    "* Classical complex-valued modes ($\\alpha$, $\\beta$) obeying coupled differential equations.\n",
    "* Quantum real-valued quadratures ($X$, $Y$, $Q$, $P$) whose correlations obey a simple matrix equation.\n",
    "\n",
    "The coupled differential equations are\n",
    "$$\n",
    "\\frac{d \\alpha}{d \\tau} = - \\left( \\frac{\\kappa^{\\prime}}{2} - i \\Delta_{0}^{\\prime} \\right) \\alpha + i g_{0}^{\\prime} \\alpha \\left( \\beta^{*} + \\beta \\right) + A_{l}^{\\prime}, \\\\\n",
    "\\frac{d \\beta}{d \\tau} = - \\left( \\frac{\\gamma^{\\prime}}{2} + i \\right) \\beta + i g_{0}^{\\prime} \\alpha^{*} \\alpha,\n",
    "$$\n",
    "where $\\kappa$ ($\\gamma$) are the optical decay (mechanical damping) rates.\n",
    "The prime superscript denotes normalization with $\\omega_{m}$ with $\\tau = \\omega_{m} t$.\n",
    "\n",
    "The equation of the quadrature correlation can be simplified as\n",
    "$$\n",
    "\\frac{d \\mathbf{V}}{d \\tau} = \\mathbf{A}^{\\prime} \\mathbf{V} + \\mathbf{V} \\mathbf{A}^{\\prime T} + \\mathbf{D}^{\\prime},\n",
    "$$\n",
    "where $\\mathbf{V}_{jk} = \\frac{1}{2} \\langle u_{j} u_{k} + u_{k} u_{j} \\rangle$, with $\\mathbf{u} = (X, Y, Q, P)^{T}$, the normalized noise matrix $\\mathbf{D}^{\\prime} = \\mathrm{Diag}[\\kappa^{\\prime} / 2, \\kappa^{\\prime} / 2, \\gamma^{\\prime} (n_{th} + 1 / 2), \\gamma^{\\prime} (n_{th} + 1 / 2)]$ with $n_{th}$ being the thermal mechanical vibration quanta, and the normalized drift matrix $\\mathbf{A}^{\\prime}$ is\n",
    "$$\n",
    "\\begin{pmatrix}\n",
    "    - \\frac{\\kappa^{\\prime}}{2} & - \\Delta^{\\prime} & - 2 G_{0I}^{\\prime} & 0 \\\\\n",
    "    \\Delta^{\\prime} & - \\frac{\\kappa^{\\prime}}{2} & 2 G_{0R}^{\\prime} & 0 \\\\\n",
    "    0 & 0 & - \\frac{\\gamma^{\\prime}}{2} & \\omega_{m}^{\\prime} \\\\\n",
    "    2 G_{0R}^{\\prime} & 2 G_{0I}^{\\prime} & - \\omega_{m}^{\\prime} & - \\frac{\\gamma^{\\prime}}{2}\n",
    "\\end{pmatrix},\n",
    "$$\n",
    "where $\\Delta^{\\prime} = \\Delta_{0}^{\\prime} + g_{0}^{\\prime} ( \\beta^{*} + \\beta )$ and $G_{0R}^{\\prime}$ ($G_{0I}^{\\prime}$) are the real (imaginary) parts of $G_{0}^{\\prime} = g_{0}^{\\prime} \\alpha$."
   ]
  },
  {
   "cell_type": "markdown",
   "metadata": {},
   "source": [
    "## The Quantum Optomechanics (QOM) Toolbox \n",
    "\n",
    "The Quantum Optomechanics Toolbox, packaged as [`qom`](https://github.com/sampreet/qom), is a wrapper-styled toolbox to simulate the classical and quantum dynamics of optomechanical models in a scalable manner.\n",
    "Its key features include:\n",
    "* Automatically managed loops and parameter validation modules.\n",
    "* Solver modules to calculate classical and quantum signatures.\n",
    "* Inheritable optomechanical systems supporting callable properties.\n",
    "* Configurable visualizations without the need for explicit plotting.\n",
    "\n",
    "Let's initialize the library..."
   ]
  },
  {
   "cell_type": "code",
   "execution_count": 1,
   "metadata": {},
   "outputs": [
    {
     "name": "stderr",
     "output_type": "stream",
     "text": [
      "MainThread               INFO    2022-11-20 23:43:30.133: (qom.ui.log) -------------------------------------------------Logger Initialized\n",
      "\r"
     ]
    }
   ],
   "source": [
    "# qom modules\n",
    "from qom.ui import init_log\n",
    "# initialize log\n",
    "init_log()"
   ]
  },
  {
   "cell_type": "markdown",
   "metadata": {},
   "source": [
    "## Interfacing the System Class with the QOM Toolbox\n",
    "\n",
    "To simulate the classical mode amplitudes and the quantum correlations for the above system, we interface three functions for:\n",
    "* the drift matrix of the quantum fluctuations,\n",
    "* the initial values of the modes, correlations, noise matrix and the constant parameters, and\n",
    "* the rate of change of each mode given by the coupled differential equations.\n",
    "\n",
    "We then interface these functions to the respective `get_ivc` and `get_mode_rates` methods of one of the classes `BaseSystem` (parent system), `SOSMSystem` (inherited system for single optical and single mechanical mode), `SODMSystem` (inherited system for single optical and double mechanical mode), `DOSMSystem` (inherited system for double optical and single mechanical mode), `DODMSystem` (inherited system for double optical and double mechanical mode) and `SOMASystem` (inherited system for an array with single optical and mechanical modes).\n",
    "\n",
    "The following script demonstrates this using the `SOSMSystem` class to interface our system."
   ]
  },
  {
   "cell_type": "code",
   "execution_count": 2,
   "metadata": {},
   "outputs": [],
   "source": [
    "####################################################################################                              DEPENDENCIES                              ####\n",
    "################################################################################\n",
    "\n",
    "# dependencies\n",
    "import logging\n",
    "import numpy as np\n",
    "\n",
    "# qom modules\n",
    "from qom.systems import SOSMSystem\n",
    "from qom.ui.plotters import MPLPlotter\n",
    "\n",
    "####################################################################################                               FUNCTIONS                                ####\n",
    "################################################################################\n",
    "\n",
    "# function to obtain the normalized drift matrix\n",
    "def func_A(modes, params, t=None):\n",
    "    # extract frequently used variables\n",
    "    A_l_norm, Delta_0_norm, g_0_norm, gamma_norm, kappa_norm = params\n",
    "    alpha, beta = modes\n",
    "\n",
    "    # effective values\n",
    "    Delta_norm = Delta_0_norm + 2 * g_0_norm * np.real(beta)\n",
    "    g_norm = g_0_norm * alpha\n",
    "\n",
    "    # drift matrix\n",
    "    A_norm = np.zeros((4, 4), dtype=np.float_)\n",
    "    # X quadratures\n",
    "    A_norm[0][0] = - kappa_norm / 2\n",
    "    A_norm[0][1] = - Delta_norm\n",
    "    A_norm[0][2] = - 2 * np.imag(g_norm)\n",
    "    # Y quadratures\n",
    "    A_norm[1][0] = Delta_norm\n",
    "    A_norm[1][1] = - kappa_norm / 2\n",
    "    A_norm[1][2] = 2 * np.real(g_norm)\n",
    "    # Q quadratures\n",
    "    A_norm[2][2] = - gamma_norm / 2\n",
    "    A_norm[2][3] = 1.0\n",
    "    # P quadratures\n",
    "    A_norm[3][0] = 2 * np.real(g_norm)\n",
    "    A_norm[3][1] = 2 * np.imag(g_norm)\n",
    "    A_norm[3][2] = - 1.0\n",
    "    A_norm[3][3] = - gamma_norm / 2\n",
    "\n",
    "    return A_norm\n",
    "\n",
    "# function to obtain the intial values and constants\n",
    "def func_ivc():\n",
    "    # extract frequently used variables\n",
    "    A_l_norm       = 25.0\n",
    "    Delta_0_norm   = -1.0\n",
    "    g_0_norm       = 0.005\n",
    "    gamma_norm     = 0.005\n",
    "    kappa_norm     = 0.15\n",
    "    n_th            = 0.0\n",
    "\n",
    "    # initial mode values as 1D list\n",
    "    modes_0 = np.zeros(2, dtype=np.complex_).tolist()\n",
    "    \n",
    "    # normalized parameters\n",
    "    c_params = [A_l_norm, Delta_0_norm, g_0_norm, gamma_norm, kappa_norm]\n",
    "\n",
    "    # # uncomment this block to simulate only classical mode amplitudes\n",
    "    # return modes_0, c_params\n",
    "\n",
    "    # initial quadrature correlations\n",
    "    corrs_0 = np.zeros((4, 4), dtype=np.float_)\n",
    "    corrs_0[0][0] = 0.5\n",
    "    corrs_0[1][1] = 0.5\n",
    "    corrs_0[2][2] = n_th + 0.5\n",
    "    corrs_0[3][3] = n_th + 0.5\n",
    "\n",
    "    # convert to 1D list and concatenate all variables\n",
    "    iv = modes_0 + [np.complex_(element) for element in corrs_0.flatten()]\n",
    "\n",
    "    # normalized noise correlation matrix\n",
    "    D_norm = np.zeros((4, 4), dtype=np.float_)\n",
    "    D_norm[0][0] = kappa_norm / 2\n",
    "    D_norm[1][1] = kappa_norm / 2\n",
    "    D_norm[2][2] = gamma_norm * (2 * n_th + 1) / 2\n",
    "    D_norm[3][3] = gamma_norm * (2 * n_th + 1) / 2\n",
    "\n",
    "    # all constants\n",
    "    c = D_norm.flatten().tolist() + c_params\n",
    "\n",
    "    return iv, c\n",
    "\n",
    "# function to obtain the rates of the optical and mechanical modes.\n",
    "def func_mode_rates(modes, params, t=None):\n",
    "    # extract frequently used variables\n",
    "    A_l_norm, Delta_0_norm, g_0_norm, gamma_norm, kappa_norm = params\n",
    "    alpha, beta = modes\n",
    "\n",
    "    # effective detuning\n",
    "    Delta_norm = Delta_0_norm + 2 * g_0_norm * np.real(beta)\n",
    "\n",
    "    # calculate mode rates\n",
    "    dalpha_dt = - kappa_norm / 2 * alpha + 1j * Delta_norm * alpha + A_l_norm\n",
    "    dbeta_dt = 1j * g_0_norm * np.conjugate(alpha) * alpha - gamma_norm / 2 * beta - 1j * beta\n",
    "    # normalize\n",
    "    mode_rates = [dalpha_dt, dbeta_dt]\n",
    "\n",
    "    return mode_rates\n",
    "    \n",
    "####################################################################################                                SYSTEM                                  ####\n",
    "################################################################################\n",
    "\n",
    "# initialize logger\n",
    "init_log()\n",
    "logger = logging.getLogger('qom.examples')\n",
    "\n",
    "# initialize system\n",
    "system = SOSMSystem()\n",
    "# set the functions to appropriate methods\n",
    "system.get_A = func_A\n",
    "system.get_ivc = func_ivc\n",
    "system.get_mode_rates = func_mode_rates"
   ]
  },
  {
   "cell_type": "markdown",
   "metadata": {},
   "source": [
    "## Simulating the Classical Equations of Motion (CEM)\n",
    "\n",
    "The `get_modes_corrs_dynamics` or the `get_modes_corrs_stationary` methods can be used to obtain the dynamical values or the stationary values of the modes.\n",
    "Alternatively, the `get_measure_dynamics` or the `get_measure_stationary` methods can also be used with `\"measure_type\"` set to `\"mode_amp\"` and `\"idx_e\"` set to `[0, 1]` (`0` and `1` represent the indices of the modes $\\alpha$ and $\\beta$).\n",
    "\n",
    "Below, we obtain and compare the dynamical and stationary values of the classical mode amplitudes."
   ]
  },
  {
   "cell_type": "code",
   "execution_count": 3,
   "metadata": {},
   "outputs": [
    {
     "name": "stderr",
     "output_type": "stream",
     "text": [
      "MainThread               INFO    2022-11-20 23:43:33.226: (qom.solvers.HLESolver) ----------------------------------------Results Obtained\t\n",
      "MainThread               INFO    2022-11-20 23:43:33.316: (qom.systems.BaseSystem) --------------------------------------Measures Obtained\t\n",
      "\r"
     ]
    },
    {
     "data": {
      "image/png": "[encoded data removed]",
      "text/plain": [
       "<Figure size 504x194.4 with 1 Axes>"
      ]
     },
     "metadata": {
      "needs_background": "light"
     },
     "output_type": "display_data"
    },
    {
     "name": "stderr",
     "output_type": "stream",
     "text": [
      "MainThread               INFO    2022-11-20 23:43:33.875: (qom.examples) ------------------------------------Stationary value of x:   2.82\n",
      "MainThread               INFO    2022-11-20 23:43:33.876: (qom.examples) ------------------------------------Stationary value of y: -36.35\n",
      "MainThread               INFO    2022-11-20 23:43:33.877: (qom.examples) ------------------------------------Stationary value of q:   4.70\n",
      "MainThread               INFO    2022-11-20 23:43:33.877: (qom.examples) ------------------------------------Stationary value of p:   0.01\n",
      "\r"
     ]
    }
   ],
   "source": [
    "####################################################################################                           DYNAMICAL VALUES                             ####\n",
    "################################################################################\n",
    "\n",
    "# parameters for the solver\n",
    "solver_params = {\n",
    "    'show_progress': True,\n",
    "    'method': 'zvode',\n",
    "    'cache': False,\n",
    "    'measure_type': 'mode_amp',\n",
    "    'idx_e': [0, 1],\n",
    "    't_min': 0.0,\n",
    "    't_max': 200.0,\n",
    "    't_dim': 2001\n",
    "}\n",
    "# calculate dynamical values\n",
    "Modes, T = system.get_measure_dynamics(solver_params=solver_params)\n",
    "# # uncomment for alternative expression\n",
    "# Modes, _, T = system.get_modes_corrs_dynamics(solver_params=solver_params)\n",
    "# extract values\n",
    "x_d = (np.sqrt(2) * np.real(np.transpose(Modes)[0])).tolist()\n",
    "y_d = (np.sqrt(2) * np.imag(np.transpose(Modes)[0])).tolist()\n",
    "q_d = (np.sqrt(2) * np.real(np.transpose(Modes)[1])).tolist()\n",
    "p_d = (np.sqrt(2) * np.imag(np.transpose(Modes)[1])).tolist()\n",
    "# display dynamical values\n",
    "plotter = MPLPlotter(axes={\n",
    "    'X': T,\n",
    "    'Y': list(range(4))\n",
    "}, params={\n",
    "    'type': 'lines',\n",
    "    'x_label': '$\\\\tau$',\n",
    "    'x_ticks': list(range(0, 201, 20)),\n",
    "    'x_ticks_minor': list(range(0, 201, 10)),\n",
    "    'y_colors': ['r', 'r', 'b', 'b'],\n",
    "    'y_styles': ['-', '--', '-', '--'],\n",
    "    'y_legend': ['$x$', '$y$', '$q$', '$p$'],\n",
    "    'v_limits': (-80, 60),\n",
    "    'v_ticks': list(range(-80, 61, 40)),\n",
    "    'v_ticks_minor': list(range(-80, 61, 20)),\n",
    "    'show_legend': True,\n",
    "    'legend_location': 'upper right',\n",
    "    'height': 2.7,\n",
    "    'width': 7.0,\n",
    "    'annotations': [{\n",
    "        's': '(a)',\n",
    "        'xy': (0.10, 0.82)\n",
    "    }]\n",
    "})\n",
    "plotter.update(xs=T, vs=[x_d, y_d, q_d, p_d])\n",
    "plotter.show(hold=True)\n",
    "\n",
    "####################################################################################                          STATIONARY VALUES                             ####\n",
    "################################################################################\n",
    "\n",
    "# parameters for the solver\n",
    "solver_params = {\n",
    "    'measure_type': 'mode_amp',\n",
    "    'idx_e': [0, 1]\n",
    "}\n",
    "# calculate stationary values\n",
    "modes = system.get_measure_stationary(solver_params=solver_params)\n",
    "# # uncomment for alternative method\n",
    "# modes, _ = system.get_modes_corrs_stationary(solver_params=solver_params)\n",
    "# extract values\n",
    "x_s = np.sqrt(2) * np.real(modes[0])\n",
    "y_s = np.sqrt(2) * np.imag(modes[0])\n",
    "q_s = np.sqrt(2) * np.real(modes[1])\n",
    "p_s = np.sqrt(2) * np.imag(modes[1])\n",
    "# display stationary values\n",
    "logger.info('------------------------------------Stationary value of x: {:6.2f}\\n'.format(x_s))\n",
    "logger.info('------------------------------------Stationary value of y: {:6.2f}\\n'.format(y_s))\n",
    "logger.info('------------------------------------Stationary value of q: {:6.2f}\\n'.format(q_s))\n",
    "logger.info('------------------------------------Stationary value of p: {:6.2f}\\n'.format(p_s))"
   ]
  },
  {
   "cell_type": "markdown",
   "metadata": {},
   "source": [
    "We can also plot the phase-space trajectory of mechanical motion with the obtained dynamical values.\n",
    "\n",
    "The following snippet illustrates this.\n",
    "The final ($10 \\times 2 \\pi \\omega_{m} t$) values are marked in red."
   ]
  },
  {
   "cell_type": "code",
   "execution_count": 4,
   "metadata": {},
   "outputs": [
    {
     "data": {
      "image/png": "[encoded data removed]",
      "text/plain": [
       "<Figure size 194.4x194.4 with 1 Axes>"
      ]
     },
     "metadata": {
      "needs_background": "light"
     },
     "output_type": "display_data"
    }
   ],
   "source": [
    "# display phase-space trajectory\n",
    "plotter = MPLPlotter(axes={}, params={\n",
    "    'type': 'lines',\n",
    "    'x_label': '$q$',\n",
    "    'x_ticks': list(range(-30, 31, 20)),\n",
    "    'x_ticks_minor': list(range(-30, 31, 10)),\n",
    "    'y_colors': ['k', 'g'],\n",
    "    'y_sizes': [0.5, 2],\n",
    "    'y_styles': ['-', '-'],\n",
    "    'v_label': '$p$',\n",
    "    'v_ticks': list(range(-30, 31, 20)),\n",
    "    'v_ticks_minor': list(range(-30, 31, 10)),\n",
    "    'height': 2.7,\n",
    "    'width': 2.7,\n",
    "    'annotations': [{\n",
    "        's': '(b)',\n",
    "        'xy': (0.34, 0.80)\n",
    "    }]\n",
    "})\n",
    "plotter.update(xs=[q_d, q_d[-628:]], vs=[p_d, p_d[-628:]])\n",
    "plotter.show(True)"
   ]
  },
  {
   "cell_type": "markdown",
   "metadata": {},
   "source": [
    "In the adiabatic limit ($\\kappa \\gg \\gamma, g_{0}$), the classical modes can be expressed as stationary values \n",
    "$$\n",
    "\\alpha_{s} = \\frac{A_{l}^{\\prime}}{\\frac{\\kappa^{\\prime}}{2} - i \\Delta^{\\prime}}, \\\\\n",
    "\\beta_{s} = \\frac{i g_{0}^{\\prime} \\left| \\alpha_{s} \\right|^{2}}{\\frac{\\gamma^{\\prime}}{2} + i}.\n",
    "$$\n",
    "\n",
    "These equations can be simplified as a cubic in $N_{o} = | \\alpha_{s} |^{2}$ given by\n",
    "$$\n",
    "4 C^{\\prime 2} N^{3} + 8 C^{\\prime} \\Delta_{0}^{\\prime} N^{2} + \\left( 4 \\Delta_{0}^{\\prime 2} + \\kappa^{\\prime 2} \\right) N - 4 \\left| A_{l}^{\\prime} \\right|^{2} = 0,\n",
    "$$\n",
    "where $C^{\\prime} = 2 g_{0}^{\\prime 2} / ( \\gamma^{\\prime 2} / 4 + 1 )$.\n",
    "\n",
    "We can obtain the real solutions of this cubic equation which represent the values of $N_{o}$ by using the `get_mean_optical_occupancies` method.\n",
    "This method requires the `get_oss_args` method defined for the system to obtain the parameters $A_{l}^{\\prime}$, $\\Delta_{0}^{\\prime}$, $\\kappa^{\\prime}$ and $C^{\\prime}$ defined in the cubic.\n",
    "\n",
    "The following snippets illustrates the process of obtaining the mean optical occupancies."
   ]
  },
  {
   "cell_type": "code",
   "execution_count": 5,
   "metadata": {},
   "outputs": [
    {
     "name": "stderr",
     "output_type": "stream",
     "text": [
      "MainThread               INFO    2022-11-20 23:43:34.147: (qom.examples) ------------------------------------------Number of real roots: 3\n",
      "MainThread               INFO    2022-11-20 23:43:34.149: (qom.examples) N_os: [22940.824128391057, 16394.715369270216, 664.7105023387211]\n",
      "\r"
     ]
    }
   ],
   "source": [
    "# function to obtain the required parameters to calculate the optical steady state\n",
    "def func_oss_args(params):\n",
    "    # extract frequently used variables\n",
    "    A_l_norm, Delta_0_norm, g_0_norm, gamma_norm, kappa_norm = params\n",
    "\n",
    "    # coefficient of occupancy\n",
    "    C_norm = 2 * g_0_norm**2 / (gamma_norm**2 / 4 + 1)\n",
    "    \n",
    "    return A_l_norm, Delta_0_norm, kappa_norm, C_norm\n",
    "\n",
    "# add function to system method\n",
    "system.get_oss_args = func_oss_args\n",
    "\n",
    "# obtain and display mean optical occupancies\n",
    "N_os, _ = system.get_mean_optical_occupancies()\n",
    "logger.info('------------------------------------------Number of real roots: {}\\n'.format(len(N_os)))\n",
    "logger.info('N_os: {}\\n'.format(N_os))"
   ]
  },
  {
   "cell_type": "markdown",
   "metadata": {},
   "source": [
    "## Simulting the Correlations between the Quantum Fluctuations\n",
    "\n",
    "The following script demonstrates the simulation of quantum correlations by calculating the dynamical and stationary values of the variances in position and momentum of the mechanical mode, which correspond to the elements $\\mathbf{V}_{22}$ and $\\mathbf{V}_{33}$ respectively."
   ]
  },
  {
   "cell_type": "code",
   "execution_count": 6,
   "metadata": {},
   "outputs": [
    {
     "name": "stderr",
     "output_type": "stream",
     "text": [
      "MainThread               INFO    2022-11-20 23:43:34.217: (qom.systems.BaseSystem) --------------------------------------Measures Obtained\t\n",
      "\r"
     ]
    },
    {
     "data": {
      "image/png": "[encoded data removed]",
      "text/plain": [
       "<Figure size 345.6x194.4 with 1 Axes>"
      ]
     },
     "metadata": {
      "needs_background": "light"
     },
     "output_type": "display_data"
    },
    {
     "name": "stderr",
     "output_type": "stream",
     "text": [
      "MainThread               INFO    2022-11-20 23:43:34.487: (qom.examples) -------------------Stationary value of Q_2_expect:   0.52\n",
      "MainThread               INFO    2022-11-20 23:43:34.488: (qom.examples) -------------------Stationary value of P_2_expect:   0.50\n",
      "\r"
     ]
    }
   ],
   "source": [
    "\n",
    "####################################################################################                           DYNAMICAL VALUES                             ####\n",
    "################################################################################\n",
    "\n",
    "# parameters for the solver\n",
    "solver_params = {\n",
    "    'show_progress': True,\n",
    "    'method': 'zvode',\n",
    "    'cache': False,\n",
    "    'measure_type': 'corr_ele',\n",
    "    'idx_e': [(2, 2), (3, 3)],\n",
    "    't_min': 0.0,\n",
    "    't_max': 200.0,\n",
    "    't_dim': 2001\n",
    "}\n",
    "# calculate dynamic values\n",
    "Corrs, T = system.get_measure_dynamics(solver_params=solver_params)\n",
    "# extract values\n",
    "Q_2_expect_d = np.transpose(Corrs)[0].tolist()\n",
    "P_2_expect_d = np.transpose(Corrs)[1].tolist()\n",
    "# # uncomment for alternative expression\n",
    "# _, Corrs, T = system.get_modes_corrs_dynamics(solver_params=solver_params)\n",
    "# # extract values\n",
    "# Q_2_expect_d = [corrs[2][2] for corrs in Corrs]\n",
    "# P_2_expect_d = [corrs[3][3] for corrs in Corrs]\n",
    "# display dynamical values\n",
    "plotter = MPLPlotter(axes={\n",
    "    'X': T,\n",
    "    'Y': list(range(2))\n",
    "}, params={\n",
    "    'type': 'lines',\n",
    "    'x_label': '$\\\\tau$',\n",
    "    'x_ticks': list(range(0, 181, 30)),\n",
    "    'x_ticks_minor': list(range(0, 181, 15)),\n",
    "    'y_colors': ['b', 'r'],\n",
    "    'y_styles': ['-', '-'],\n",
    "    'y_legend': ['$\\\\langle Q^{2} \\\\rangle$', '$\\\\langle P^{2} \\\\rangle$'],\n",
    "    'v_ticks': [0.4, 0.5, 0.6, 0.7],\n",
    "    'v_ticks_minor': [0.45, 0.55, 0.65, 0.75],\n",
    "    'show_legend': True,\n",
    "    'height': 2.7,\n",
    "    'width': 4.8,\n",
    "    'annotations': [{\n",
    "        's': '(a)',\n",
    "        'xy': (0.12, 0.82)\n",
    "    }]\n",
    "})\n",
    "plotter.update(xs=T, vs=[Q_2_expect_d, P_2_expect_d])\n",
    "plotter.show(hold=True)\n",
    "\n",
    "####################################################################################                          STATIONARY VALUES                             ####\n",
    "################################################################################\n",
    "\n",
    "# parameters for the solver\n",
    "solver_params = {\n",
    "    'measure_type': 'corr_ele',\n",
    "    'idx_e': [(2, 2), (3, 3)]\n",
    "}\n",
    "# calculate stationary values\n",
    "corrs = system.get_measure_stationary(solver_params=solver_params)\n",
    "# extract values\n",
    "Q_2_expect_s = corrs[0]\n",
    "P_2_expect_s = corrs[1]\n",
    "# # uncomment for alternative method\n",
    "# _, corrs = system.get_modes_corrs_stationary(solver_params=solver_params)\n",
    "# # extract values\n",
    "# Q_2_expect_s = corrs[2][2]\n",
    "# P_2_expect_s = corrs[3][3]\n",
    "# display stationary values\n",
    "logger.info('-------------------Stationary value of Q_2_expect: {:6.2f}\\n'.format(Q_2_expect_s))\n",
    "logger.info('-------------------Stationary value of P_2_expect: {:6.2f}\\n'.format(P_2_expect_s))"
   ]
  },
  {
   "cell_type": "markdown",
   "metadata": {},
   "source": [
    "We can also calculate quantum properties like Entanglement, Phase Synchronization and Discord using the `get_measure_dynamics` method with their corresponding measure codes and one or more pairs of mode indices.\n",
    "\n",
    "The following snippet illustrates the calculation of the logarithmic negativity measure of entanglement between the optical and mechanical modes."
   ]
  },
  {
   "cell_type": "code",
   "execution_count": 7,
   "metadata": {},
   "outputs": [
    {
     "data": {
      "image/png": "[encoded data removed]",
      "text/plain": [
       "<Figure size 345.6x194.4 with 1 Axes>"
      ]
     },
     "metadata": {
      "needs_background": "light"
     },
     "output_type": "display_data"
    },
    {
     "name": "stderr",
     "output_type": "stream",
     "text": [
      "MainThread               INFO    2022-11-20 23:43:34.878: (qom.examples) ---------------------Stationary value of entan_ln:   0.12\n",
      "\r"
     ]
    }
   ],
   "source": [
    "# parameters for the solver\n",
    "solver_params = {\n",
    "    'measure_type': 'entan_ln',\n",
    "    'idx_e': (0, 1)\n",
    "}\n",
    "# calculate and display dynamical value\n",
    "Entan_ln, T = system.get_measure_dynamics(solver_params=solver_params)\n",
    "plotter = MPLPlotter(axes={}, params={\n",
    "    'type': 'lines',\n",
    "    'x_label': '$\\\\tau$',\n",
    "    'x_ticks': list(range(0, 181, 30)),\n",
    "    'x_ticks_minor': list(range(0, 181, 15)),\n",
    "    'y_colors': ['k'],\n",
    "    'v_label': '$E_{N}$',\n",
    "    'v_limits': (0.0, 0.5),\n",
    "    'v_ticks': [0.0, 0.2, 0.4],\n",
    "    'v_ticks_minor': [0.1, 0.2, 0.3, 0.5],\n",
    "    'height': 2.7,\n",
    "    'width': 4.8,\n",
    "    'annotations': [{\n",
    "        's': '(b)',\n",
    "        'xy': (0.2, 0.84)\n",
    "    }]\n",
    "})\n",
    "plotter.update(xs=T, vs=np.transpose(Entan_ln)[0])\n",
    "plotter.show(hold=True)\n",
    "# calculate and display stationary value\n",
    "entan_ln = system.get_measure_stationary(solver_params=solver_params)\n",
    "logger.info('---------------------Stationary value of entan_ln: {:6.2f}\\n'.format(entan_ln[0]))"
   ]
  }
 ],
 "metadata": {
  "kernelspec": {
   "display_name": "Python 3.8.12 ('qom')",
   "language": "python",
   "name": "python3"
  },
  "language_info": {
   "codemirror_mode": {
    "name": "ipython",
    "version": 3
   },
   "file_extension": ".py",
   "mimetype": "text/x-python",
   "name": "python",
   "nbconvert_exporter": "python",
   "pygments_lexer": "ipython3",
   "version": "3.8.12"
  },
  "orig_nbformat": 4,
  "vscode": {
   "interpreter": {
    "hash": "bfdb005bc0e10f84f8f84c668626513744d6e3b4c1f7d84a79d5785d1b57766c"
   }
  }
 },
 "nbformat": 4,
 "nbformat_minor": 2
}
